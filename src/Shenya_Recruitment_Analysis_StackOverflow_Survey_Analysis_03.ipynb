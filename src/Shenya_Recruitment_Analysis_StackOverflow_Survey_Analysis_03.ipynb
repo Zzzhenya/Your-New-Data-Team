{
  "nbformat": 4,
  "nbformat_minor": 0,
  "metadata": {
    "colab": {
      "provenance": [],
      "toc_visible": true
    },
    "kernelspec": {
      "name": "python3",
      "display_name": "Python 3"
    },
    "language_info": {
      "name": "python"
    }
  },
  "cells": [
    {
      "cell_type": "markdown",
      "source": [
        "# “How to recruit Data Scientists?” - Recruitment Analysis "
      ],
      "metadata": {
        "id": "if8qFrx13W-U"
      }
    },
    {
      "cell_type": "markdown",
      "source": [
        "## **Description:**\n",
        "\n",
        "You are working for a major tech company in Berlin as a Junior Data Analyst. The tech company wants to grow and hire for their new Data Science team. The HR department of the company asks you to create an analysis on how to recruit for the new data science team. \n",
        "\n",
        "You take the Stackoverflow Survey to analyze the data science market. \n",
        "\n",
        "The company wants to recruit people who have Python and SQL skills. \n",
        "\n",
        "**Please answer the following questions:**\n",
        "- How many Data Analyst / Scientists are in the survey? \n",
        "- What profile do these Data Analyst / Scientist have? (Background, education, work experience)\n",
        "- What is the salary range for such Data Analysts / Scientists?\n",
        "- Please share any other insight you find that would be relevant for deciding how to recruit Data Analysts/Scientist."
      ],
      "metadata": {
        "id": "Jb77Ily03ibG"
      }
    },
    {
      "cell_type": "markdown",
      "source": [
        "## Resources:\n",
        "\n",
        "* [About the Survey ](https://insights.stackoverflow.com/survey)\n",
        "\n"
      ],
      "metadata": {
        "id": "hB9rYynZvW1Y"
      }
    },
    {
      "cell_type": "code",
      "source": [
        "import requests, zipfile, io\n",
        "import pandas as pd"
      ],
      "metadata": {
        "id": "6DXYKF_NLCl_"
      },
      "execution_count": null,
      "outputs": []
    },
    {
      "cell_type": "code",
      "source": [
        "import matplotlib.pyplot as plt\n",
        "from pandas_profiling import ProfileReport\n",
        "%matplotlib inline\n",
        "pd.set_option('display.max_colwidth', None)"
      ],
      "metadata": {
        "id": "3_9H9IvVo-DO"
      },
      "execution_count": null,
      "outputs": []
    },
    {
      "cell_type": "code",
      "source": [
        "import seaborn as sns"
      ],
      "metadata": {
        "id": "2FQ5IQIb13VK"
      },
      "execution_count": null,
      "outputs": []
    },
    {
      "cell_type": "code",
      "source": [
        "# Link to Survey Data\n",
        "zip_file_url = \"https://info.stackoverflowsolutions.com/rs/719-EMH-566/images/stack-overflow-developer-survey-2022.zip\""
      ],
      "metadata": {
        "id": "LYKNkTn6LKPJ"
      },
      "execution_count": null,
      "outputs": []
    },
    {
      "cell_type": "code",
      "source": [
        "# Download Survey Data into Google Colab\n",
        "r = requests.get(zip_file_url)\n",
        "z = zipfile.ZipFile(io.BytesIO(r.content))\n",
        "z.extractall(\"/content\")"
      ],
      "metadata": {
        "id": "c9pfnKR-KM4h"
      },
      "execution_count": null,
      "outputs": []
    },
    {
      "cell_type": "code",
      "source": [
        "# Load Survey Data\n",
        "survey_results = pd.read_csv(\"/content/survey_results_public.csv\")"
      ],
      "metadata": {
        "id": "XgfVaFFvKTvL"
      },
      "execution_count": null,
      "outputs": []
    },
    {
      "cell_type": "code",
      "source": [
        "survey_results.describe()"
      ],
      "metadata": {
        "id": "ndJ7VERuWZwR"
      },
      "execution_count": null,
      "outputs": []
    },
    {
      "cell_type": "markdown",
      "source": [
        "# Data Exploration"
      ],
      "metadata": {
        "id": "zm7Cwib4jRxk"
      }
    },
    {
      "cell_type": "markdown",
      "source": [
        "## Seperating columns into sections based on the questionnaire."
      ],
      "metadata": {
        "id": "83-ysBY2FlhY"
      }
    },
    {
      "cell_type": "markdown",
      "source": [
        "### Basic Information \n",
        "\n",
        "1. 'ResponseId', : Identity of the saved survey response\n",
        "\n",
        "2. 'MainBranch', : Whether developer,hobby developer, student, or not; one option: Reguired\n",
        "\n",
        "3. 'Employment', : Which of the following best describes your current employment status?\n",
        "\n",
        "4. 'RemoteWork', : Which best describes your current work situation?\n",
        "\n",
        "5. 'CodingActivities', : Which of the following best describes the code you write outside of work? Select all that apply.\n",
        "\n"
      ],
      "metadata": {
        "id": "aA-ZHObxirR4"
      }
    },
    {
      "cell_type": "markdown",
      "source": [
        "### Education, Work, and Career\n",
        "\n",
        "6. 'EdLevel', : Which of the following best describes the highest level of formal education that you’ve completed? *\n",
        "\n",
        "7. 'LearnCode', : How did you learn to code? Select all that apply.\n",
        "\n",
        "8. 'LearnCodeOnline', : What online resources do you use to learn to code? Select all that apply.\n",
        "\n",
        "9. 'LearnCodeCoursesCert', : What online courses or certifications do you use to learn to code? Select all that apply.\n",
        "\n",
        "10. 'YearsCode', : Including any education, how many years have you been coding in total?\n",
        "\n",
        "11. 'YearsCodePro', : NOT including education, how many years have you coded professionally (as a part of your work)?\n",
        "\n",
        "12. **'DevType',** : Which of the following describes your current job? Please select all that apply.\n",
        "\n",
        "13. 'OrgSize', : Approximately how many people are employed by the company or organization you currently work for?\n",
        "\n",
        "14. 'PurchaseInfluence', : What level of influence do you, personally, have over new technology purchases at your organization?\n",
        "\n",
        "15. 'BuyNewTool', : When buying a new tool or software, how do you discover and research available solutions? Select all that apply.\n",
        "\n",
        "16. **'Country', ** : Where do you live? *\n",
        "\n",
        "17. 'Currency', : Which currency do you use day-to-day? If your answer is complicated, please pick the one you're most comfortable estimating in. *\n",
        "\n",
        "18. 'CompTotal', : What is your current total compensation (salary, bonuses, and perks, before taxes and deductions)?\n",
        "\n",
        "19. 'CompFreq', : Is that compensation weekly, monthly, or yearly?\n",
        "\n"
      ],
      "metadata": {
        "id": "LHSaYaJdy6Xe"
      }
    },
    {
      "cell_type": "markdown",
      "source": [
        "### Technology and Tech Culture\n",
        "\n",
        "\n",
        "20. **'LanguageHaveWorkedWith',** : Which programming, scripting, and markup languages have you done extensive development work in over the past year\n",
        "\n",
        "21. **'LanguageWantToWorkWith', ** : Which programming, scripting, and markup languages do you want to work in over the next year? \n",
        "\n",
        "22. **'DatabaseHaveWorkedWith',** : Which database environments have you done extensive development work in over the past year\n",
        "\n",
        "23. **'DatabaseWantToWorkWith', ** : Which database environments do you want to work in over the next year? \n",
        "\n",
        "\n",
        "24. 'PlatformHaveWorkedWith', : Which cloud platforms now\n",
        "\n",
        "25. 'PlatformWantToWorkWith',  : Which cloud platforms next\n",
        "\n",
        "26. 'WebframeHaveWorkedWith', : Which web frameworks and web technologies\n",
        "\n",
        "27. 'WebframeWantToWorkWith', : Which web frameworks and web technologies\n",
        "\n",
        "28. **'MiscTechHaveWorkedWith', : Which other frameworks and libraries**\n",
        "\n",
        "29. **'MiscTechWantToWorkWith', : Which other frameworks and libraries**\n",
        "\n",
        "30. 'ToolsTechHaveWorkedWith', : Which developer tools\n",
        "\n",
        "31. 'ToolsTechWantToWorkWith', : Which developer tools\n",
        "\n",
        "32. 'NEWCollabToolsHaveWorkedWith', : Which development environments \n",
        "\n",
        "33. 'NEWCollabToolsWantToWorkWith', : Which development environments \n",
        "\n",
        "\n",
        "\n",
        "34. 'OpSysProfessional use', : What is the primary operating system Professional use\n",
        "\n",
        "35. 'OpSysPersonal use', : What is the primary operating system Personal User\n",
        "\n",
        "36. 'VersionControlSystem', : What are the primary version control systems you use? Select all that apply.\n",
        "\n",
        "37. 'VCInteraction',: How do you interact with your version control system? Select all that apply.\n",
        "\n",
        "38. 'VCHostingPersonal use', : \n",
        "What version control hosting service are you using? Personal\n",
        "\n",
        "39. 'VCHostingProfessional use', : \n",
        "What version control hosting service are you using? Professional\n",
        "\n",
        "\n",
        "\n",
        "40. 'OfficeStackAsyncHaveWorkedWith', : Which collaborative work management tools now\n",
        "\n",
        "41. 'OfficeStackAsyncWantToWorkWith', : Which collaborative work management tools next\n",
        "\n",
        "42. 'OfficeStackSyncHaveWorkedWith', : Which communication tools did you use now\n",
        "\n",
        "43. 'OfficeStackSyncWantToWorkWith', : Which communication tools did you use next\n",
        "\n",
        "\n",
        "44. 'Blockchain', : How favorable are you about blockchain, crypto, and decentralization?\n",
        "\n"
      ],
      "metadata": {
        "id": "rn81nG1ozG65"
      }
    },
    {
      "cell_type": "markdown",
      "source": [
        "### Stack Community\n",
        "\n",
        "45. 'NEWSOSites', : \n",
        "Which of the following Stack Overflow sites have you visited? Select all that apply.\n",
        "\n",
        "46. 'SOVisitFreq', : How frequently would you say you visit Stack Overflow?\n",
        "\n",
        "47. 'SOAccount', : Do you have a Stack Overflow account?\n",
        "\n",
        "48. 'SOPartFreq', : How frequently would you say you participate in Q&A on Stack Overflow? By participate we mean ask, answer, vote for, or comment on questions.\n",
        "\n",
        "49. 'SOComm', : Do you consider yourself a member of the Stack Overflow community?\n",
        "\n"
      ],
      "metadata": {
        "id": "zrTw85Es0jKs"
      }
    },
    {
      "cell_type": "markdown",
      "source": [
        "### Demographics\n",
        "\n",
        "50. 'Age', : Age range\n",
        "\n",
        "51. 'Gender', : Which of the following describe you, if any? Please check all that apply.\n",
        "\n",
        "52. 'Trans', : Do you identify as transgender?\n",
        "\n",
        "53. 'Sexuality', : Which of the following describe you, if any? Please check all that apply.\n",
        "\n",
        "54. 'Ethnicity', : Which of the following describe you, if any? Please check all that apply.\n",
        "\n",
        "55. 'Accessibility', : Which of the following describe you, if any? Please check all that apply.\n",
        "\n",
        "56. 'MentalHealth', : Which of the following describe you, if any? Please check all that apply.\n",
        "\n"
      ],
      "metadata": {
        "id": "fNh2wYau08yP"
      }
    },
    {
      "cell_type": "markdown",
      "source": [
        "### TeamsBranch\n",
        "Professional Developer Series : This is an optional section\n",
        "\n",
        "57. 'TBranch', : Would you like to participate in the Professional Developer Series?\n",
        "\n",
        "## TeamsQuestions\n",
        "\n",
        "58. 'ICorPM', : Are you an independent contributor or people manager?\n",
        "\n",
        "59. **'WorkExp',**: How many years of working experience do you have?\n",
        "\n",
        "60. 'Knowledge_1',  : I have interactions with people outside of my immediate team.\n",
        "\n",
        "61. 'Knowledge_2', : Knowledge silos prevent me from getting ideas across the organization (i.e., one individual or team has information that isn't shared with others)\n",
        "\n",
        "62. 'Knowledge_3', : I can find up-to-date information within my organization to help me do my job.\n",
        "\n",
        "63. 'Knowledge_4', : I am able to quickly find answers to my questions with existing tools and resources.\n",
        "\n",
        "64. 'Knowledge_5', : I know which system or resource to use to find information and answers to questions I have.\n",
        "\n",
        "65. 'Knowledge_6', : I often find myself answering questions that I’ve already answered before.\n",
        "\n",
        "66. 'Knowledge_7', : Waiting on answers to questions often causes interruptions and disrupts my workflow.\n",
        "\n",
        "\n",
        "\n",
        "67. 'Frequency_1', : Needing help from people outside of your immediate team?\n",
        "\n",
        "68. 'Frequency_2', : Interacting with people outside of your immediate team?\n",
        "\n",
        "69. 'Frequency_3', : Encountering knowledge silos (where one individual or team has information that's not shared or distributed with other individuals or teams) at work?\n",
        "\n",
        "\n",
        "70. 'TimeSearching', : On an average day, how much time do you typically spend searching for answers or solutions to problems you encounter at work? (This includes time spent searching on your own, asking a colleague, and waiting for a response).\n",
        "\n",
        "71. 'TimeAnswering', : On an average day, how much time do you typically spend answering questions you get asked at work?\n",
        "\n",
        "72. 'Onboarding', : The time it takes to onboard new hires at my company is:\n",
        "\n",
        "73. 'ProfessionalTech', : My company has:\n",
        "\n",
        "Missing Q: Does your team use Stack Overflow for Teams?\n",
        "\n",
        "74. 'TrueFalse_1', : Are you involved in supporting new hires during their onboarding?\n",
        "\n",
        "75. 'TrueFalse_2', : Do you use learning resources provided by your employer?\n",
        "\n",
        "76. 'TrueFalse_3', : Does your employer give you time to learn new skills?\n"
      ],
      "metadata": {
        "id": "RrkhmSt41fG5"
      }
    },
    {
      "cell_type": "markdown",
      "source": [
        "### FinalThoughtsSurveyReview\n",
        "\n",
        "77. 'SurveyLength', : How do you feel about the length of the survey this year?\n",
        "\n",
        "78. 'SurveyEase', : How easy or difficult was this survey to complete?\n",
        "\n",
        "79. 'ConvertedCompYearly': Companastions converted to annual rates. Need to check whether currency was cnverted to EUR as well"
      ],
      "metadata": {
        "id": "sO1QJVpP3sCz"
      }
    },
    {
      "cell_type": "code",
      "source": [
        "#making a copy, just in case\n",
        "df = survey_results.copy()"
      ],
      "metadata": {
        "id": "-ALmHQgVq50s"
      },
      "execution_count": null,
      "outputs": []
    },
    {
      "cell_type": "code",
      "source": [
        "#Removing teams section because it's an optional part of survey and too many null values\n",
        "df.loc[df['TBranch']=='Yes'].describe(include = 'all') # \t37200\n",
        "df.loc[:,'TBranch':'ProfessionalTech'].describe(include = 'all') # 15470\n",
        "#survey final thoughts\n",
        "df_finalThoughts = df.loc[:,'SurveyLength':]\n",
        "df_finalThoughts\n",
        "#first part of survey\n",
        "df_first_part = df.loc[:,'ResponseId':'TBranch']\n",
        "df_first_part\n",
        "\n",
        "#concatanate the first and final parts without teams section\n",
        "\n",
        "df_modified = pd.concat([df_first_part,df_finalThoughts], axis = 1)\n",
        "df_modified.head(2)"
      ],
      "metadata": {
        "id": "swFlAWP8-BMF"
      },
      "execution_count": null,
      "outputs": []
    },
    {
      "cell_type": "markdown",
      "source": [
        "# Languages : Filtering data by SQL and Python"
      ],
      "metadata": {
        "id": "TSLUjO-F5HtG"
      }
    },
    {
      "cell_type": "code",
      "source": [
        "#To filter those who know python, create a new column with python true/false\n",
        "#All language combinations with python\n",
        "df_modified[\"Python\"] = df_modified[\"LanguageHaveWorkedWith\"].str.contains('Python')\n",
        "df_modified.loc[(df_modified.Python == True)].LanguageHaveWorkedWith.value_counts() "
      ],
      "metadata": {
        "id": "KuQrbJY293rp"
      },
      "execution_count": null,
      "outputs": []
    },
    {
      "cell_type": "code",
      "source": [
        "#To filter those who know SQL, create a new column with SQL true/false\n",
        "#All language combinations with SQL\n",
        "df_modified[\"SQL\"] = df_modified[\"LanguageHaveWorkedWith\"].str.contains('SQL')\n",
        "df_modified.loc[(df_modified.SQL == True)].LanguageHaveWorkedWith.value_counts() "
      ],
      "metadata": {
        "id": "1sJnL4nq9-Zx"
      },
      "execution_count": null,
      "outputs": []
    },
    {
      "cell_type": "code",
      "source": [
        "#both languages\n",
        "df_modified[\"SQLandPython\"] = (df_modified.SQL == True) & (df_modified.Python == True)\n",
        "df_modified.SQLandPython.value_counts()"
      ],
      "metadata": {
        "id": "u0YeqceS39Jy"
      },
      "execution_count": null,
      "outputs": []
    },
    {
      "cell_type": "markdown",
      "source": [
        "# Question 1 : Data Role Counts"
      ],
      "metadata": {
        "id": "GxfU22RE5OtN"
      }
    },
    {
      "cell_type": "markdown",
      "source": [
        "**How many Data Analyst / Scientists are in the survey? **\n",
        "\n",
        "* Count the number of 'ResponseId' where DevType = Data Analyst or Data Scientist \n",
        "\n",
        "'Data scientist or machine learning specialist'\n",
        "'Data or business analyst'\n",
        "'Scientist'\n",
        "`'Engineer, data'`"
      ],
      "metadata": {
        "id": "d6pFYwXo69yV"
      }
    },
    {
      "cell_type": "markdown",
      "source": [
        "## Single Option Counts"
      ],
      "metadata": {
        "id": "rGBVzmkDKMHm"
      }
    },
    {
      "cell_type": "code",
      "source": [
        "#DataFrame.isin(values) : Data Science\n",
        "data_science = ['Data scientist or machine learning specialist']\n",
        "df_modified['DataScience'] = df_modified['DevType'].isin(data_science)\n",
        "\n",
        "df_modified['DataScience'].sum()\n",
        "\n",
        "#df.groupby(df['DevType'])[[\"DataScience\",\"DataAnalyst\"]].count()\n",
        "#df1.groupby(0)[[\"MainBranch\"]].count()"
      ],
      "metadata": {
        "id": "mNnNMkZNs-hY"
      },
      "execution_count": null,
      "outputs": []
    },
    {
      "cell_type": "code",
      "source": [
        "#DataFrame.isin(values) : Data Analyst\n",
        "data_analyst = ['Data or business analyst']\n",
        "df_modified['DataAnalyst'] = df_modified['DevType'].isin(data_analyst)\n",
        "df_modified['DataAnalyst'].sum()"
      ],
      "metadata": {
        "id": "vVH5IZsJWCvz"
      },
      "execution_count": null,
      "outputs": []
    },
    {
      "cell_type": "code",
      "source": [
        "#DataFrame.isin(values) : Data Analyst\n",
        "data_engineer = ['Engineer, data']\n",
        "df_modified['DataEngineer'] = df_modified['DevType'].isin(data_engineer)\n",
        "df_modified['DataEngineer'].sum()"
      ],
      "metadata": {
        "id": "lpwtfa2uj_NI"
      },
      "execution_count": null,
      "outputs": []
    },
    {
      "cell_type": "markdown",
      "source": [
        "# Analysis"
      ],
      "metadata": {
        "id": "PJnvKhePjDUi"
      }
    },
    {
      "cell_type": "markdown",
      "source": [
        "'EdLevel', : Which of the following best describes the highest level of formal education that you’ve completed? *\n",
        "\n",
        "'LearnCode', : How did you learn to code? Select all that apply.\n",
        "\n",
        "'LearnCodeOnline', : What online resources do you use to learn to code? Select all that apply.\n",
        "\n",
        "'LearnCodeCoursesCert', : What online courses or certifications do you use to learn to code? Select all that apply.\n",
        "\n",
        "'YearsCode', : Including any education, how many years have you been coding in total?\n",
        "\n",
        "'YearsCodePro', : NOT including education, how many years have you coded professionally (as a part of your work)?\n",
        "\n",
        "'DevType', : Which of the following describes your current job? Please select all that apply.\n",
        "\n",
        "'OrgSize', : Approximately how many people are employed by the company or organization you currently work for?\n",
        "\n",
        "'PurchaseInfluence', : What level of influence do you, personally, have over new technology purchases at your organization?\n",
        "\n",
        "'BuyNewTool', : When buying a new tool or software, how do you discover and research available solutions? Select all that apply.\n",
        "\n",
        "*'Country', * : Where do you live? *\n",
        "\n",
        "'ConvertedCompYearly'"
      ],
      "metadata": {
        "id": "gdTSa800kyja"
      }
    },
    {
      "cell_type": "markdown",
      "source": [
        "\n",
        "```\n",
        "cars.groupby(\"Make\").agg(\n",
        "    {\"Price\" : [\"min\", \"max\"],\n",
        "     \"Doors\" : [\"mean\", \"nunique\"],\n",
        "     \"Kms\" : \"nunique\"\n",
        "    }\n",
        ")\n",
        "\n",
        "--\n",
        "my_functions = [\"mean\", \"count\"]\n",
        "my_columns = [\"Price\", \"Doors\"]\n",
        "\n",
        "price_by_kind = cars.groupby(\"Kind\")[my_columns].agg(my_functions)\n",
        "price_by_kind\n",
        "\n",
        "```\n",
        "\n"
      ],
      "metadata": {
        "id": "JZFGOQ3atBIz"
      }
    },
    {
      "cell_type": "markdown",
      "source": [
        "## Main Data Role Masks"
      ],
      "metadata": {
        "id": "bx9RQluMQxYh"
      }
    },
    {
      "cell_type": "code",
      "source": [
        "#language_mask = (df_modified['SQL'] == True) & (df_modified['Python'] == True)\n",
        "#dataAnalyst_mask = df_modified.loc[(df_modified['DataAnalyst'] == True) & (language_mask)]\n",
        "#dataScience_mask = df_modified.loc[(df_modified['DataScience'] == True) & (language_mask)]\n",
        "#dataEngineer_mask = df_modified.loc[(df_modified['DataEngineer'] == True) &(language_mask)]\n",
        "\n",
        "#Removing the language mask\n",
        "dataAnalyst_mask = df_modified.loc[(df_modified['DataAnalyst'] == True)]\n",
        "dataScience_mask = df_modified.loc[(df_modified['DataScience'] == True)]\n",
        "dataEngineer_mask = df_modified.loc[(df_modified['DataEngineer'] == True)]"
      ],
      "metadata": {
        "id": "8nYZqSselEWm"
      },
      "execution_count": null,
      "outputs": []
    },
    {
      "cell_type": "code",
      "source": [
        "# Setting up colour palette\n",
        "palette_1 = sns.color_palette(\"Set3\",12)\n",
        "sns.palplot(palette_1)"
      ],
      "metadata": {
        "id": "p-HjPNsxlCml"
      },
      "execution_count": null,
      "outputs": []
    },
    {
      "cell_type": "code",
      "source": [
        "# Setting up colour palette\n",
        "palette_2 = sns.color_palette(\"PuRd\",8)\n",
        "sns.palplot(palette_2)"
      ],
      "metadata": {
        "id": "_6vOc9p1mSav"
      },
      "execution_count": null,
      "outputs": []
    },
    {
      "cell_type": "markdown",
      "source": [
        "# Formal Education"
      ],
      "metadata": {
        "id": "v0XMkPlaigCB"
      }
    },
    {
      "cell_type": "markdown",
      "source": [
        "## Raw Numbers"
      ],
      "metadata": {
        "id": "J3YOp1-dQ3SX"
      }
    },
    {
      "cell_type": "code",
      "source": [
        "dataAnalyst_mask.DevType.value_counts()"
      ],
      "metadata": {
        "id": "dmprBljABo4q"
      },
      "execution_count": null,
      "outputs": []
    },
    {
      "cell_type": "code",
      "source": [
        "#datascience education\n",
        "\n",
        "education_cols = [\"EdLevel\",\"LearnCode\", \"LearnCodeOnline\", \"LearnCodeCoursesCert\"]\n",
        "work_experience = [\"YearsCode\",\"YearsCodePro\"]\n",
        "\n",
        "dataScience_edu = dataScience_mask.groupby([\"EdLevel\"])[\"EdLevel\"].agg([\"count\"]).sort_values(by=[\"count\"], ascending=False)\n",
        "dataScience_edu.reset_index(inplace = True)\n",
        "dataScience_edu\n",
        "#sns.barplot(data = dataScience_edu, y=\"EdLevel\", x=\"count\")"
      ],
      "metadata": {
        "id": "RdE4_UcMtQV5"
      },
      "execution_count": null,
      "outputs": []
    },
    {
      "cell_type": "code",
      "source": [
        "#DataAnalytics education\n",
        "\n",
        "dataAnalyst_edu = dataAnalyst_mask.groupby([\"EdLevel\"])[\"EdLevel\"].agg([\"count\"]).sort_values(by=[\"count\"], ascending=False)\n",
        "dataAnalyst_edu.reset_index(inplace = True)\n",
        "dataAnalyst_edu\n",
        "#sns.barplot(data = dataAnalyst_edu, y=\"EdLevel\", x=\"count\")"
      ],
      "metadata": {
        "id": "pWM61sOB9TiR"
      },
      "execution_count": null,
      "outputs": []
    },
    {
      "cell_type": "code",
      "source": [
        "#DataEngineering education\n",
        "\n",
        "dataEngineer_edu = dataEngineer_mask.groupby([\"EdLevel\"])[\"EdLevel\"].agg([\"count\"]).sort_values(by=[\"count\"], ascending=False)\n",
        "dataEngineer_edu.reset_index(inplace = True)\n",
        "dataEngineer_edu\n",
        "#sns.barplot(data = dataEngineer_edu, y=\"EdLevel\", x=\"count\")"
      ],
      "metadata": {
        "id": "lZCNGcsP9oJA"
      },
      "execution_count": null,
      "outputs": []
    },
    {
      "cell_type": "code",
      "source": [
        "edu_order = [\n",
        "    'Secondary school (e.g. American high school, German Realschule or Gymnasium, etc.)',\n",
        "    'Some college/university study without earning a degree',\n",
        "    'Associate degree (A.A., A.S., etc.)',\n",
        "    'Bachelor’s degree (B.A., B.S., B.Eng., etc.)',\n",
        "    'Professional degree (JD, MD, etc.)',\n",
        "    'Master’s degree (M.A., M.S., M.Eng., MBA, etc.)',\n",
        "    'Other doctoral degree (Ph.D., Ed.D., etc.)',\n",
        "    'Something else']"
      ],
      "metadata": {
        "id": "sIqTaH3fmdOv"
      },
      "execution_count": null,
      "outputs": []
    },
    {
      "cell_type": "code",
      "source": [
        "fig = plt.figure(figsize=(10, 25))\n",
        "spec = fig.add_gridspec(ncols=1, nrows=3)\n",
        "sns.set(style=\"whitegrid\")\n",
        "ax0 = fig.add_subplot(spec[0, 0])\n",
        "ax0.set_title('DevType : Data scientist or machine learning specialist\\n')\n",
        "sns.barplot(data = dataScience_edu, y=\"EdLevel\", x=\"count\", order = edu_order, palette = palette_2, ax = ax0)\n",
        "\n",
        "ax1 = fig.add_subplot(spec[1, 0])\n",
        "ax1.set_title('DevType : Data or business analyst\\n')\n",
        "sns.barplot(data = dataAnalyst_edu, y=\"EdLevel\", x=\"count\",order = edu_order,palette = palette_2, ax = ax1)\n",
        "\n",
        "ax2 = fig.add_subplot(spec[2, 0])\n",
        "ax2.set_title('DevType : Engineer, data\\n')\n",
        "sns.barplot(data = dataEngineer_edu, y=\"EdLevel\", x=\"count\",order = edu_order,palette = palette_2, ax = ax2)\n",
        "\n",
        "fig.suptitle('\\n\\n\\nEducation Level of Data Scientists, Data Analysts and Data Engineers from the survey.', fontsize = 18)"
      ],
      "metadata": {
        "id": "-BYWOFdsQWT_"
      },
      "execution_count": null,
      "outputs": []
    },
    {
      "cell_type": "markdown",
      "source": [
        "## Percentages"
      ],
      "metadata": {
        "id": "7Czu-hVjQ-H6"
      }
    },
    {
      "cell_type": "code",
      "source": [
        "fig = plt.figure(figsize=(10, 25))\n",
        "spec = fig.add_gridspec(ncols=1, nrows=3)\n",
        "sns.set(style=\"whitegrid\")\n",
        "ax0 = fig.add_subplot(spec[0, 0])\n",
        "ax0.set_title('DevType : Data or business analyst\\n')\n",
        "dataAnalyst_mask.EdLevel.value_counts(normalize=True).plot(kind='barh', ax = ax0)\n",
        "ax1 = fig.add_subplot(spec[1, 0])\n",
        "ax1.set_title('DevType : Data scientist or machine learning specialist\\n')\n",
        "dataScience_mask.EdLevel.value_counts(normalize=True).plot(kind='barh', ax = ax1)\n",
        "ax2 = fig.add_subplot(spec[2, 0])\n",
        "ax2.set_title('DevType : Engineer, data\\n')\n",
        "dataEngineer_mask.EdLevel.value_counts(normalize=True).plot(kind='barh', ax = ax2)\n",
        "\n"
      ],
      "metadata": {
        "id": "xSPYVmehLGy4"
      },
      "execution_count": null,
      "outputs": []
    },
    {
      "cell_type": "markdown",
      "source": [
        "# **YearsCode and YearsCodePro as experience**"
      ],
      "metadata": {
        "id": "d3iqIZ_ryrh4"
      }
    },
    {
      "cell_type": "code",
      "source": [
        "df_modified['YearsCode'].unique()"
      ],
      "metadata": {
        "id": "NvMApicvsKK8"
      },
      "execution_count": null,
      "outputs": []
    },
    {
      "cell_type": "code",
      "source": [
        "#yearsCode_order = list['Less than 1 year']\n",
        "\n",
        "#[str(x) for x in a]\n",
        "yearsCode_order= [str(x) for x in list(range(1,51))]\n",
        "#fruits.insert(1, \"orange\")\n",
        "yearsCode_order.insert(0,'Less than 1 year')\n",
        "yearsCode_order.append('More than 50 years')\n"
      ],
      "metadata": {
        "id": "2KgZFsN097Lp"
      },
      "execution_count": null,
      "outputs": []
    },
    {
      "cell_type": "code",
      "source": [
        "df_modified['YearsCodePro'].unique()"
      ],
      "metadata": {
        "id": "GWqJXeaf0odr"
      },
      "execution_count": null,
      "outputs": []
    },
    {
      "cell_type": "code",
      "source": [
        "#yearsCode_order= [str(x) for x in list(range(1,51))]\n",
        "yearsCodePro_order= [str(x) for x in list(range(1,51))]\n",
        "yearsCodePro_order.insert(0,'Less than 1 year')\n",
        "yearsCodePro_order.append('More than 50 years')"
      ],
      "metadata": {
        "id": "F-sy04XABsFq"
      },
      "execution_count": null,
      "outputs": []
    },
    {
      "cell_type": "code",
      "source": [
        "data_mask = df_modified.loc[(df_modified['DataAnalyst'] == True)|(df_modified['DataScience'] == True)|(df_modified['DataEngineer'] == True)]\n",
        "data_mask\n",
        "data_exp = data_mask.groupby([\"DevType\",\"YearsCode\",\"YearsCodePro\"])[[\"EdLevel\"]].agg(\"count\")\n",
        "data_exp.rename(columns={\"EdLevel\": \"Count\"}, inplace = True)\n",
        "data_exp.reset_index(inplace = True)\n",
        "data_exp.head(2)"
      ],
      "metadata": {
        "id": "qMl_zOhj1IGY"
      },
      "execution_count": null,
      "outputs": []
    },
    {
      "cell_type": "code",
      "source": [
        "fig = plt.figure(figsize=(30, 10))\n",
        "spec = fig.add_gridspec(ncols=1, nrows=1)\n",
        "ax0 = fig.add_subplot(spec[0, 0])\n",
        "sns.histplot(data = data_mask, x = \"YearsCode\" , hue = \"DevType\", ax = ax0)\n",
        "\n",
        "#Strings are not ordered"
      ],
      "metadata": {
        "id": "LympYmJXHHio"
      },
      "execution_count": null,
      "outputs": []
    },
    {
      "cell_type": "code",
      "source": [
        "fig = plt.figure(figsize=(25, 40))\n",
        "spec = fig.add_gridspec(ncols=2, nrows=3)\n",
        "sns.set(style=\"whitegrid\")\n",
        "\n",
        "#Years code  and Years code pro for DataScience\n",
        "ax00 = fig.add_subplot(spec[0, 0])\n",
        "ax00.set_title('Years Code : Data scientist or machine learning specialist\\n')\n",
        "sns.barplot(data = data_exp.loc[(data_exp.DevType == \"Data scientist or machine learning specialist\")], x=\"Count\", y=\"YearsCode\", order = yearsCode_order, ci = None, ax = ax00)\n",
        "\n",
        "\n",
        "ax01 = fig.add_subplot(spec[0, 1])\n",
        "ax01.set_title('Years Code Pro : Data scientist or machine learning specialist\\n')\n",
        "sns.barplot(data = data_exp.loc[(data_exp.DevType == \"Data scientist or machine learning specialist\")], x=\"Count\", y=\"YearsCodePro\", order = yearsCodePro_order,ci = None, ax = ax01)\n",
        "\n",
        "#Years code  and Years code pro for DataAnalyst\n",
        "ax10 = fig.add_subplot(spec[1, 0])\n",
        "ax10.set_title('Years Code : Data or business analyst\\n')\n",
        "sns.barplot(data = data_exp.loc[(data_exp.DevType == \"Data or business analyst\")], x=\"Count\", y=\"YearsCode\",order = yearsCode_order,ci = None, ax = ax10)\n",
        "\n",
        "ax11 = fig.add_subplot(spec[1, 1])\n",
        "ax11.set_title('Years Code Pro : Data or business analyst\\n')\n",
        "sns.barplot(data = data_exp.loc[(data_exp.DevType == \"Data or business analyst\")], x=\"Count\", y=\"YearsCodePro\", order = yearsCodePro_order,ci = None, ax = ax11)\n",
        "\n",
        "#Years code  and Years code pro for Engineer, data\n",
        "\n",
        "ax20 = fig.add_subplot(spec[2, 0])\n",
        "ax20.set_title('Years Code : Data Engineer\\n')\n",
        "sns.barplot(data = data_exp.loc[(data_exp.DevType == \"Engineer, data\")], x=\"Count\", y=\"YearsCode\",order = yearsCode_order,ci = None, ax = ax20)\n",
        "\n",
        "ax21 = fig.add_subplot(spec[2, 1])\n",
        "ax21.set_title('Years Code Pro : Data Engineer\\n')\n",
        "sns.barplot(data = data_exp.loc[(data_exp.DevType == \"Engineer, data\")], x=\"Count\", y=\"YearsCodePro\", order = yearsCodePro_order,ci = None, ax = ax21)\n",
        "\n",
        "fig.suptitle('\\n\\n\\nCoding Experience of Data Scientists, Data Analysts and Data Engineers from the survey.', fontsize = 18)"
      ],
      "metadata": {
        "id": "rhhGHRhs5tPg"
      },
      "execution_count": null,
      "outputs": []
    },
    {
      "cell_type": "markdown",
      "source": [
        "# Salary"
      ],
      "metadata": {
        "id": "ffvSHLqSiVX9"
      }
    },
    {
      "cell_type": "markdown",
      "source": [
        "## Raw Numbers"
      ],
      "metadata": {
        "id": "FyR7p7YOR11J"
      }
    },
    {
      "cell_type": "code",
      "source": [
        "#300000 as the cutoff number\n",
        "\n",
        "value_1 = 300000\n",
        "\n",
        "fig = plt.figure(figsize=(30, 23))#(30, 28)\n",
        "spec = fig.add_gridspec(ncols=2, nrows=3)\n",
        "ax01 = fig.add_subplot(spec[0, 0])\n",
        "ax01.set_title('Data Scientists: Salary > ' + str(value_1),fontsize = 16)\n",
        "#sns.barplot(data = dataScience_mask1, y = \"sal_group\", x = \"ResponseId\", color = palette_1[2] )\n",
        "sns.histplot(data = dataScience_mask.loc[(dataScience_mask.ConvertedCompYearly > value_1),\"ConvertedCompYearly\" ], bins = 12,color = palette_1[0], ax = ax01 )\n",
        "ax02 = fig.add_subplot(spec[0, 1])\n",
        "ax02.set_title('Data Scientists: Salary <= ' + str(value_1), fontsize = 16)\n",
        "sns.histplot(data = dataScience_mask.loc[(dataScience_mask.ConvertedCompYearly <= value_1),\"ConvertedCompYearly\" ], bins = 12, color = palette_1[0], ax = ax02 )\n",
        "\n",
        "\n",
        "ax03 = fig.add_subplot(spec[2, 0])\n",
        "ax03.set_title('\\n\\nData Analysts: Salary > ' + str(value_1), fontsize = 16)\n",
        "sns.histplot(data = dataAnalyst_mask.loc[(dataAnalyst_mask.ConvertedCompYearly > value_1),\"ConvertedCompYearly\" ], bins = 12,color = palette_1[2], ax = ax03 )\n",
        "ax04 = fig.add_subplot(spec[2, 1])\n",
        "ax04.set_title('\\n\\nData Analysts: Salary <= ' + str(value_1), fontsize = 16)\n",
        "sns.histplot(data = dataAnalyst_mask.loc[(dataAnalyst_mask.ConvertedCompYearly <= value_1),\"ConvertedCompYearly\" ], bins = 12,color = palette_1[2], ax = ax04 )\n",
        "\n",
        "\n",
        "ax05 = fig.add_subplot(spec[1, 0])\n",
        "ax05.set_title('\\n\\nData Engineers: Salary > ' + str(value_1), fontsize = 16)\n",
        "sns.histplot(data = dataEngineer_mask.loc[(dataEngineer_mask.ConvertedCompYearly > value_1),\"ConvertedCompYearly\" ], bins = 12,color = palette_1[4], ax = ax05 )\n",
        "ax06 = fig.add_subplot(spec[1, 1])\n",
        "ax06.set_title('\\n\\nData Engineers: Salary <= ' + str(value_1) , fontsize = 16)\n",
        "sns.histplot(data = dataEngineer_mask.loc[(dataEngineer_mask.ConvertedCompYearly <= value_1),\"ConvertedCompYearly\" ], bins = 12, color = palette_1[4], ax = ax06 )\n",
        "\n",
        "fig.suptitle('\\n\\nConverted Annual Salary of Data Scientists, Data Analysts and Data Engineers from the survey.', fontsize = 18)"
      ],
      "metadata": {
        "id": "IjLv8dp7Uopn"
      },
      "execution_count": null,
      "outputs": []
    },
    {
      "cell_type": "code",
      "source": [
        "#1000000 as the cutoff number\n",
        "value_1 = 1000000\n",
        "\n",
        "fig = plt.figure(figsize=(35, 27))#(30, 28)\n",
        "spec = fig.add_gridspec(ncols=2, nrows=3)\n",
        "\n",
        "ax01 = fig.add_subplot(spec[0, 0])\n",
        "ax01.set_title('\\n\\nData Scientists: Salary > ' + str(value_1),fontsize = 16)\n",
        "#sns.barplot(data = dataScience_mask1, y = \"sal_group\", x = \"ResponseId\", color = palette_1[2] )\n",
        "sns.histplot(data = dataScience_mask.loc[(dataScience_mask.ConvertedCompYearly > value_1),\"ConvertedCompYearly\" ], bins = 12,color = palette_1[0], ax = ax01 )\n",
        "ax01.ticklabel_format(style='plain', axis='x')\n",
        "\n",
        "ax02 = fig.add_subplot(spec[0, 1])\n",
        "ax02.set_title('\\n\\nData Scientists: Salary <= ' + str(value_1), fontsize = 16)\n",
        "sns.histplot(data = dataScience_mask.loc[(dataScience_mask.ConvertedCompYearly <= value_1),\"ConvertedCompYearly\" ], bins = 12, color = palette_1[0], ax = ax02 )\n",
        "ax02.ticklabel_format(style='plain', axis='x')\n",
        "\n",
        "ax03 = fig.add_subplot(spec[2, 0])\n",
        "ax03.ticklabel_format( axis='y', useMathText=True) #\n",
        "ax03.set_title('Data Analysts: Salary > ' + str(value_1), fontsize = 16)\n",
        "sns.histplot(data = dataAnalyst_mask.loc[(dataAnalyst_mask.ConvertedCompYearly > value_1),\"ConvertedCompYearly\" ], bins = 12,color = palette_1[2], ax = ax03 )\n",
        "\n",
        "\n",
        "ax04 = fig.add_subplot(spec[2, 1])\n",
        "ax04.set_title('Data Analysts: Salary <= ' + str(value_1), fontsize = 16)\n",
        "sns.histplot(data = dataAnalyst_mask.loc[(dataAnalyst_mask.ConvertedCompYearly <= value_1),\"ConvertedCompYearly\" ], bins = 12,color = palette_1[2], ax = ax04 )\n",
        "ax04.ticklabel_format(style='plain', axis='x')\n",
        "\n",
        "ax05 = fig.add_subplot(spec[1, 0])\n",
        "ax05.set_title('Data Engineers: Salary > ' + str(value_1), fontsize = 16)\n",
        "sns.histplot(data = dataEngineer_mask.loc[(dataEngineer_mask.ConvertedCompYearly > value_1),\"ConvertedCompYearly\" ], bins = 12,color = palette_1[4], ax = ax05 )\n",
        "ax05.ticklabel_format(style='plain', axis='x')\n",
        "\n",
        "ax06 = fig.add_subplot(spec[1, 1])\n",
        "ax06.set_title('Data Engineers: Salary <= ' + str(value_1) , fontsize = 16)\n",
        "sns.histplot(data = dataEngineer_mask.loc[(dataEngineer_mask.ConvertedCompYearly <= value_1),\"ConvertedCompYearly\" ], bins = 12, color = palette_1[4], ax = ax06 )\n",
        "ax06.ticklabel_format(style='plain', axis='x')\n",
        "\n",
        "fig.suptitle('Converted Annual Salary of Data Scientists, Data Analysts and Data Engineers from the survey.\\n\\n\\n', fontsize = 18)"
      ],
      "metadata": {
        "id": "L8VppanZfefT"
      },
      "execution_count": null,
      "outputs": []
    },
    {
      "cell_type": "markdown",
      "source": [
        "# Employment - Full Time Part Time Student etc"
      ],
      "metadata": {
        "id": "9l0S3C93SiEm"
      }
    },
    {
      "cell_type": "code",
      "source": [
        "#Data Analyst Employment\n",
        "type(dataAnalyst_mask.Employment.value_counts())\n",
        "data_Analyst_employment = dataAnalyst_mask.Employment.value_counts(normalize=True).reset_index()\n",
        "sns.barplot(data = data_Analyst_employment, x = \"Employment\", y = \"index\", palette=palette_1)\n"
      ],
      "metadata": {
        "id": "TeCsqxU4vIwV"
      },
      "execution_count": null,
      "outputs": []
    },
    {
      "cell_type": "code",
      "source": [
        "#Data Scientist Emplotment\n",
        "data_Science_employment = dataScience_mask.Employment.value_counts().reset_index()\n",
        "sns.barplot(data = data_Science_employment, x = \"Employment\", y = \"index\", palette=palette_1)"
      ],
      "metadata": {
        "id": "Hq8Br3Wrxl7g"
      },
      "execution_count": null,
      "outputs": []
    },
    {
      "cell_type": "code",
      "source": [
        "#Data engineer employment\n",
        "data_Engineer_employment = dataEngineer_mask.Employment.value_counts().reset_index()\n",
        "sns.barplot(data = data_Engineer_employment, x = \"Employment\", y = \"index\", palette=palette_1)"
      ],
      "metadata": {
        "id": "sknTfbypxxKv"
      },
      "execution_count": null,
      "outputs": []
    },
    {
      "cell_type": "markdown",
      "source": [
        "# Sexuality/Gender"
      ],
      "metadata": {
        "id": "AC5c1cnCzvpU"
      }
    },
    {
      "cell_type": "markdown",
      "source": [
        "Demographics\n",
        "\n",
        "'Age', : Age range\n",
        "\n",
        "'Gender', : Which of the following describe you, if any? Please check all that apply.\n",
        "\n",
        "'Trans', : Do you identify as transgender?\n",
        "\n",
        "'Sexuality', : Which of the following describe you, if any? Please check all that apply.\n",
        "\n",
        "'Ethnicity', : Which of the following describe you, if any? Please check all that apply.\n",
        "\n",
        "'Accessibility', : Which of the following describe you, if any? Please check all that apply.\n",
        "\n",
        "'MentalHealth', : Which of the following describe you, if any? Please check all that apply."
      ],
      "metadata": {
        "id": "w_fIsGXU0LLj"
      }
    },
    {
      "cell_type": "markdown",
      "source": [
        "### Gender"
      ],
      "metadata": {
        "id": "5AScLMJE0llg"
      }
    },
    {
      "cell_type": "code",
      "source": [
        "#Gender\n",
        "df_modified.Gender.value_counts()"
      ],
      "metadata": {
        "id": "oaV-XWb80K6U"
      },
      "execution_count": null,
      "outputs": []
    },
    {
      "cell_type": "code",
      "source": [
        "data_Analyst_gender = dataAnalyst_mask.Gender.value_counts().reset_index()\n",
        "sns.barplot(data = data_Analyst_gender, x = \"Gender\", y = \"index\", palette=palette_1)"
      ],
      "metadata": {
        "id": "HuhTeGfK0ukz"
      },
      "execution_count": null,
      "outputs": []
    },
    {
      "cell_type": "code",
      "source": [
        "#data_Science_gender"
      ],
      "metadata": {
        "id": "IEmQ5ganScP8"
      },
      "execution_count": null,
      "outputs": []
    },
    {
      "cell_type": "code",
      "source": [
        "data_Science_gender = dataScience_mask.Gender.value_counts().reset_index()\n",
        "sns.barplot(data = data_Science_gender, x = \"Gender\", y = \"index\", palette=palette_1)"
      ],
      "metadata": {
        "id": "il_phSGE03N1"
      },
      "execution_count": null,
      "outputs": []
    },
    {
      "cell_type": "code",
      "source": [
        "data_Engineer_gender = dataEngineer_mask.Gender.value_counts().reset_index()\n",
        "sns.barplot(data = data_Engineer_gender, x = \"Gender\", y = \"index\", palette=palette_1)"
      ],
      "metadata": {
        "id": "QFgt7LTI0_6B"
      },
      "execution_count": null,
      "outputs": []
    },
    {
      "cell_type": "code",
      "source": [
        "# all data roles All genders\n",
        "all_data = df_modified.loc[\n",
        "    (\n",
        "    (df_modified.DataEngineer == True) | \n",
        "    (df_modified.DataScience == True) |\n",
        "    (df_modified.DataAnalyst == True)\n",
        "    ) ]\n",
        "    #Dropping the language filter\n",
        "    #&\n",
        "    #(df_modified.SQL == True)&\n",
        "    #(df_modified.Python == True)]\n",
        "all_data_genders = all_data.Gender.value_counts(normalize=True).reset_index()\n",
        "\n",
        "all_data_genders.Gender = (all_data_genders.Gender*100).round(2)\n",
        "all_data_genders"
      ],
      "metadata": {
        "id": "f6xe8YWqgmx-"
      },
      "execution_count": null,
      "outputs": []
    },
    {
      "cell_type": "code",
      "source": [
        "ax = sns.barplot(data = all_data_genders, x = \"Gender\", y = \"index\", palette=palette_1[0:])\n",
        "ax.set( ylabel = \"Gender\", xlabel = \"Percentage\")\n",
        "ax.xaxis.set_ticks_position(\"top\")\n",
        "ax.xaxis.set_label_position(\"top\")"
      ],
      "metadata": {
        "id": "z3JYP3JZDKl-"
      },
      "execution_count": null,
      "outputs": []
    },
    {
      "cell_type": "code",
      "source": [
        "# all data roles genders other than Man\n",
        "ax = sns.barplot(data = all_data_genders[1:], x = \"Gender\", y = \"index\", palette=palette_1[1:])\n",
        "ax.set( ylabel = \"Gender\", xlabel = \"Percentage\")"
      ],
      "metadata": {
        "id": "4vg3DK2iluip"
      },
      "execution_count": null,
      "outputs": []
    },
    {
      "cell_type": "markdown",
      "source": [
        "### Trans"
      ],
      "metadata": {
        "id": "b6XpF--s1NxK"
      }
    },
    {
      "cell_type": "code",
      "source": [
        "#Trans\n",
        "\n",
        "df_modified.Trans.value_counts()"
      ],
      "metadata": {
        "id": "qtZLVsNn1UnZ"
      },
      "execution_count": null,
      "outputs": []
    },
    {
      "cell_type": "code",
      "source": [
        "data_Analyst_Trans = dataAnalyst_mask.Trans.value_counts().reset_index()\n",
        "data_Analyst_Trans"
      ],
      "metadata": {
        "id": "7uFspQAp1amX"
      },
      "execution_count": null,
      "outputs": []
    },
    {
      "cell_type": "code",
      "source": [
        "sns.barplot(data = data_Analyst_Trans, x = \"Trans\", y = \"index\", palette=palette_1)"
      ],
      "metadata": {
        "id": "S_USQCAR1prw"
      },
      "execution_count": null,
      "outputs": []
    },
    {
      "cell_type": "code",
      "source": [
        "data_Science_Trans = dataScience_mask.Trans.value_counts().reset_index()\n",
        "data_Science_Trans"
      ],
      "metadata": {
        "id": "YBiq5mpN1r40"
      },
      "execution_count": null,
      "outputs": []
    },
    {
      "cell_type": "code",
      "source": [
        "sns.barplot(data = data_Science_Trans, x = \"Trans\", y = \"index\", palette=palette_1)"
      ],
      "metadata": {
        "id": "Z5NdgafI14MI"
      },
      "execution_count": null,
      "outputs": []
    },
    {
      "cell_type": "code",
      "source": [
        "data_Engineer_Trans = dataEngineer_mask.Trans.value_counts().reset_index()\n",
        "data_Engineer_Trans"
      ],
      "metadata": {
        "id": "yRBx4aYf18Rs"
      },
      "execution_count": null,
      "outputs": []
    },
    {
      "cell_type": "code",
      "source": [
        "sns.barplot(data = data_Engineer_Trans, x = \"Trans\", y = \"index\", palette=palette_1)"
      ],
      "metadata": {
        "id": "2wDkR24K2Dpn"
      },
      "execution_count": null,
      "outputs": []
    },
    {
      "cell_type": "code",
      "source": [
        "#All data All trans data\n",
        "all_data_trans = all_data.Trans.value_counts(normalize=True).reset_index()\n",
        "all_data_trans\n",
        "sns.barplot(data = all_data_trans, x = \"Trans\", y = \"index\", palette=palette_1[0:])"
      ],
      "metadata": {
        "id": "vz0s7BwPmSSk"
      },
      "execution_count": null,
      "outputs": []
    },
    {
      "cell_type": "code",
      "source": [
        "#All data excluding Trans = No\n",
        "sns.barplot(data = all_data_trans[1:], x = \"Trans\", y = \"index\", palette=palette_1[1:])"
      ],
      "metadata": {
        "id": "X84S5nlMmiwy"
      },
      "execution_count": null,
      "outputs": []
    },
    {
      "cell_type": "markdown",
      "source": [
        "### Sexuality"
      ],
      "metadata": {
        "id": "r39Ymgx22N3Z"
      }
    },
    {
      "cell_type": "code",
      "source": [
        "#Sexuality\n",
        "\n",
        "df_modified.Sexuality.value_counts()"
      ],
      "metadata": {
        "id": "fKap4cTi2NjN"
      },
      "execution_count": null,
      "outputs": []
    },
    {
      "cell_type": "code",
      "source": [
        "data_Analyst_Sexuality = dataAnalyst_mask.Sexuality.value_counts().reset_index()\n",
        "data_Analyst_Sexuality"
      ],
      "metadata": {
        "id": "-T-jPDdB2ZQx"
      },
      "execution_count": null,
      "outputs": []
    },
    {
      "cell_type": "code",
      "source": [
        "sns.barplot(data = data_Analyst_Sexuality, x = \"Sexuality\", y = \"index\", palette=palette_1)"
      ],
      "metadata": {
        "id": "J7JPeD7R22tg"
      },
      "execution_count": null,
      "outputs": []
    },
    {
      "cell_type": "code",
      "source": [
        "data_Science_Sexuality = dataScience_mask.Sexuality.value_counts().reset_index()\n",
        "data_Science_Sexuality"
      ],
      "metadata": {
        "id": "znpFU7JY22tg"
      },
      "execution_count": null,
      "outputs": []
    },
    {
      "cell_type": "code",
      "source": [
        "sns.barplot(data = data_Science_Sexuality, x = \"Sexuality\", y = \"index\", palette=palette_1)"
      ],
      "metadata": {
        "id": "d1yae6rr22tg"
      },
      "execution_count": null,
      "outputs": []
    },
    {
      "cell_type": "code",
      "source": [
        "data_Engineer_Sexuality = dataEngineer_mask.Sexuality.value_counts().reset_index()\n",
        "data_Engineer_Sexuality"
      ],
      "metadata": {
        "id": "MurUocSZ22tg"
      },
      "execution_count": null,
      "outputs": []
    },
    {
      "cell_type": "code",
      "source": [
        "sns.barplot(data = data_Engineer_Sexuality, x = \"Sexuality\", y = \"index\", palette=palette_1)"
      ],
      "metadata": {
        "id": "YhzxrMIo22th"
      },
      "execution_count": null,
      "outputs": []
    },
    {
      "cell_type": "code",
      "source": [
        "# All data all sexuality\n",
        "\n",
        "all_data_sexuality = all_data.Sexuality.value_counts(normalize=True).reset_index()\n",
        "all_data_sexuality\n",
        "sns.barplot(data = all_data_sexuality, x = \"Sexuality\", y = \"index\", palette=palette_1[0:])"
      ],
      "metadata": {
        "id": "6f5rgo3Pm7z2"
      },
      "execution_count": null,
      "outputs": []
    },
    {
      "cell_type": "code",
      "source": [
        "# All data all sexuality except straight/heterosexual\n",
        "sns.barplot(data = all_data_sexuality[1:], x = \"Sexuality\", y = \"index\", palette=palette_1[1:])"
      ],
      "metadata": {
        "id": "6BDvvBLPnF93"
      },
      "execution_count": null,
      "outputs": []
    },
    {
      "cell_type": "markdown",
      "source": [
        "# Things I did before I had a thought direction"
      ],
      "metadata": {
        "id": "2tlitlUEkkIg"
      }
    },
    {
      "cell_type": "code",
      "source": [],
      "metadata": {
        "id": "ZRnXoOrxkjts"
      },
      "execution_count": null,
      "outputs": []
    },
    {
      "cell_type": "code",
      "source": [],
      "metadata": {
        "id": "_d57HZfmWFd6"
      },
      "execution_count": null,
      "outputs": []
    },
    {
      "cell_type": "code",
      "source": [
        "survey_results.Accessibility.unique()\n",
        "survey_results.Accessibility.value_counts()\n",
        "survey_results['Accessibility'].value_counts()"
      ],
      "metadata": {
        "id": "_Bd0jOjjoQkJ"
      },
      "execution_count": null,
      "outputs": []
    },
    {
      "cell_type": "markdown",
      "source": [
        "## Data Professionals percentages"
      ],
      "metadata": {
        "id": "pBNQciR7KYB6"
      }
    },
    {
      "cell_type": "markdown",
      "source": [
        "\n",
        "\n",
        "```\n",
        "dataAnalyst_mask = df_modified.loc[df_modified['DataAnalyst'] == True]\n",
        "dataScience_mask = df_modified.loc[df_modified['DataScience'] == True]\n",
        "dataEngineer_mask = df_modified.loc[df_modified['DataEngineer'] == True]\n",
        "```\n",
        "\n"
      ],
      "metadata": {
        "id": "_ZjvDBrKMDqL"
      }
    },
    {
      "cell_type": "code",
      "source": [
        "professions = [\"Data Analyst\",\"Data Scientist\", \"Data Engineer\"]\n",
        "total = df_modified['DataAnalyst'].sum() + df_modified['DataScience'].sum() + df_modified['DataEngineer'].sum()\n",
        "counts = [df_modified['DataAnalyst'].sum() ,df_modified['DataScience'].sum(), df_modified['DataEngineer'].sum()]\n",
        "percentages = [df_modified['DataAnalyst'].sum() * 100 /total,df_modified['DataScience'].sum()* 100/total,df_modified['DataEngineer'].sum()* 100/total]\n",
        "ax = sns.barplot(x = professions , y = percentages, color = palette_1[2])\n",
        "ax.set(xlabel='Data Profession', ylabel='Percentage')\n",
        "counts\n"
      ],
      "metadata": {
        "id": "h8rQMPGu9HOk"
      },
      "execution_count": null,
      "outputs": []
    },
    {
      "cell_type": "code",
      "source": [],
      "metadata": {
        "id": "CeUsw9oF9HBz"
      },
      "execution_count": null,
      "outputs": []
    },
    {
      "cell_type": "code",
      "source": [
        "professions = [\"Data Analyst\",\"Data Scientist\", \"Data Engineer\"]\n",
        "total = df_modified['DataAnalyst'].sum() + df_modified['DataScience'].sum() + df_modified['DataEngineer'].sum()\n",
        "counts = [df_modified['DataAnalyst'].sum() ,df_modified['DataScience'].sum(), df_modified['DataEngineer'].sum()]\n",
        "percentages = [df_modified['DataAnalyst'].sum() * 100 /total,df_modified['DataScience'].sum()* 100/total,df_modified['DataEngineer'].sum()* 100/total]\n",
        "sql_python = [df_modified.loc[(df_modified.DataAnalyst == True) & (df_modified.SQLandPython == True)].ResponseId.count() * 100 /df_modified['DataAnalyst'].sum(),\n",
        "              df_modified.loc[(df_modified.DataScience == True) & (df_modified.SQLandPython == True)].ResponseId.count() * 100 /df_modified['DataScience'].sum(),\n",
        "              df_modified.loc[(df_modified.DataEngineer == True) & (df_modified.SQLandPython == True)].ResponseId.count() * 100 /df_modified['DataEngineer'].sum()]\n",
        "              \n",
        "d = {\n",
        "    'professions': professions,\n",
        "    'counts': counts,\n",
        "    'percentages': percentages,\n",
        "    'languages': sql_python,\n",
        "     }\n",
        "amounts = pd.DataFrame(data=d)\n",
        "fig = plt.figure(figsize=(25, 5))\n",
        "ax = sns.barplot(data = amounts, x = \"professions\" , y = \"percentages\", color = palette_1[8])\n",
        "ax.set(xlabel='Data Profession', ylabel='Percentage')\n",
        "counts\n",
        "\n",
        "amounts.head()"
      ],
      "metadata": {
        "id": "7KT6Oz6x1a0K"
      },
      "execution_count": null,
      "outputs": []
    },
    {
      "cell_type": "code",
      "source": [
        "professions = [\"Data Analyst\",\"Data Scientist\", \"Data Engineer\"]\n",
        "data_df = df_modified.loc[(df_modified.DataAnalyst == True)|(df_modified.DataScience == True)|(df_modified.DataEngineer == True)]\n",
        "fig = plt.figure(figsize=(25, 5))\n",
        "ax = sns.countplot(data = data_df, x = \"DevType\", palette = palette_1[1:], hue = \"SQLandPython\", order = [\"Data or business analyst\",\"Data scientist or machine learning specialist\",\"Engineer, data\"] )\n",
        "ax.set(xlabel='Data Profession', ylabel='Count', xticklabels = professions, title = \"Data Professions by Language Profficiency\")"
      ],
      "metadata": {
        "id": "tbdHdVGt5D6K"
      },
      "execution_count": null,
      "outputs": []
    },
    {
      "cell_type": "code",
      "source": [
        "professions = [\"Data Analyst\",\"Data Scientist\", \"Data Engineer\"]\n",
        "data_df = df_modified.loc[(df_modified.DataAnalyst == True)|(df_modified.DataScience == True)|(df_modified.DataEngineer == True)]\n",
        "fig = plt.figure(figsize=(25, 5))\n",
        "#ax = sns.countplot(data = data_df, x = \"DevType\", palette = palette_1[1:], hue = \"SQLandPython\", order = [\"Data or business analyst\",\"Data scientist or machine learning specialist\",\"Engineer, data\"] )\n",
        "#ax.set(xlabel='Data Profession', ylabel='Count', xticklabels = professions, title = \"Data Professions by Language Profficiency\")\n",
        "language_data_01 = data_df.groupby([\"DevType\",\"SQLandPython\"]).count().reset_index()\n",
        "language_data_01.ResponseId = (language_data_01.ResponseId / (language_data_01.ResponseId.count())).round(2)\n",
        "language_data_01\n",
        "ax = sns.barplot(data = language_data_01, x = \"DevType\", y = \"ResponseId\", palette = palette_1[1:], hue = \"SQLandPython\", order = [\"Data or business analyst\",\"Data scientist or machine learning specialist\",\"Engineer, data\"] )\n",
        "ax.set(xlabel='Data Profession', ylabel='Percentage', xticklabels = professions)#, title = \"Data Professions by Language Profficiency\")"
      ],
      "metadata": {
        "id": "cZFCEJLeBvuy"
      },
      "execution_count": null,
      "outputs": []
    },
    {
      "cell_type": "code",
      "source": [
        "data_df.loc[data_df.LanguageHaveWorkedWith.str.contains('R')== True].DevType.value_counts() #False    777 True     284"
      ],
      "metadata": {
        "id": "8ef277xT7iWd"
      },
      "execution_count": null,
      "outputs": []
    },
    {
      "cell_type": "code",
      "source": [
        "data_df.loc[data_df.LanguageHaveWorkedWith.str.contains('Python')== True].DevType.value_counts()"
      ],
      "metadata": {
        "id": "cjjvkvaI9yFA"
      },
      "execution_count": null,
      "outputs": []
    },
    {
      "cell_type": "code",
      "source": [
        "data_df.loc[data_df.LanguageHaveWorkedWith.str.contains('SQL')== True].DevType.value_counts()"
      ],
      "metadata": {
        "id": "9tVpIRE79151"
      },
      "execution_count": null,
      "outputs": []
    },
    {
      "cell_type": "code",
      "source": [
        "data_df.LearnCode.value_counts()"
      ],
      "metadata": {
        "id": "4QBMEXJRNW9g"
      },
      "execution_count": null,
      "outputs": []
    }
  ]
}